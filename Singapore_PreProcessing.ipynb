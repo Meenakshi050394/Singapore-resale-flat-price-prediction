{
 "cells": [
  {
   "cell_type": "code",
   "execution_count": 2,
   "metadata": {},
   "outputs": [],
   "source": [
    "import pandas as pd\n",
    "import numpy as np\n"
   ]
  },
  {
   "cell_type": "code",
   "execution_count": 3,
   "metadata": {},
   "outputs": [],
   "source": [
    "df1 = pd.read_csv(r\"C:/Users/HP/Desktop/Data Scientist/project/singapore resale flat price prediction/REF_19901999.csv\")"
   ]
  },
  {
   "cell_type": "code",
   "execution_count": 4,
   "metadata": {},
   "outputs": [],
   "source": [
    "df2 = pd.read_csv(r\"C:/Users/HP/Desktop/Data Scientist/project/singapore resale flat price prediction/RFP_2000Feb2012.csv\")"
   ]
  },
  {
   "cell_type": "code",
   "execution_count": 5,
   "metadata": {},
   "outputs": [],
   "source": [
    "df3 = pd.read_csv(r\"C:/Users/HP/Desktop/Data Scientist/project/singapore resale flat price prediction/REF_Mar2012toDec2014.csv\")"
   ]
  },
  {
   "cell_type": "code",
   "execution_count": 6,
   "metadata": {},
   "outputs": [],
   "source": [
    "df4 = pd.read_csv(r\"C:/Users/HP/Desktop/Data Scientist/project/singapore resale flat price prediction/REF_Jan2015toDec2016.csv\")"
   ]
  },
  {
   "cell_type": "code",
   "execution_count": 7,
   "metadata": {},
   "outputs": [],
   "source": [
    "df5 = pd.read_csv(r\"C:/Users/HP/Desktop/Data Scientist/project/singapore resale flat price prediction/REF_Jan2017onwards.csv\")"
   ]
  },
  {
   "cell_type": "code",
   "execution_count": 8,
   "metadata": {},
   "outputs": [],
   "source": [
    "df = pd.concat([df1,df2,df3,df4,df5],axis=0)"
   ]
  },
  {
   "cell_type": "code",
   "execution_count": 9,
   "metadata": {},
   "outputs": [
    {
     "data": {
      "text/html": [
       "<div>\n",
       "<style scoped>\n",
       "    .dataframe tbody tr th:only-of-type {\n",
       "        vertical-align: middle;\n",
       "    }\n",
       "\n",
       "    .dataframe tbody tr th {\n",
       "        vertical-align: top;\n",
       "    }\n",
       "\n",
       "    .dataframe thead th {\n",
       "        text-align: right;\n",
       "    }\n",
       "</style>\n",
       "<table border=\"1\" class=\"dataframe\">\n",
       "  <thead>\n",
       "    <tr style=\"text-align: right;\">\n",
       "      <th></th>\n",
       "      <th>month</th>\n",
       "      <th>town</th>\n",
       "      <th>flat_type</th>\n",
       "      <th>block</th>\n",
       "      <th>street_name</th>\n",
       "      <th>storey_range</th>\n",
       "      <th>floor_area_sqm</th>\n",
       "      <th>flat_model</th>\n",
       "      <th>lease_commence_date</th>\n",
       "      <th>resale_price</th>\n",
       "      <th>remaining_lease</th>\n",
       "    </tr>\n",
       "  </thead>\n",
       "  <tbody>\n",
       "    <tr>\n",
       "      <th>0</th>\n",
       "      <td>1990-01</td>\n",
       "      <td>ANG MO KIO</td>\n",
       "      <td>1 ROOM</td>\n",
       "      <td>309</td>\n",
       "      <td>ANG MO KIO AVE 1</td>\n",
       "      <td>10 TO 12</td>\n",
       "      <td>31.0</td>\n",
       "      <td>IMPROVED</td>\n",
       "      <td>1977</td>\n",
       "      <td>9000.0</td>\n",
       "      <td>NaN</td>\n",
       "    </tr>\n",
       "    <tr>\n",
       "      <th>1</th>\n",
       "      <td>1990-01</td>\n",
       "      <td>ANG MO KIO</td>\n",
       "      <td>1 ROOM</td>\n",
       "      <td>309</td>\n",
       "      <td>ANG MO KIO AVE 1</td>\n",
       "      <td>04 TO 06</td>\n",
       "      <td>31.0</td>\n",
       "      <td>IMPROVED</td>\n",
       "      <td>1977</td>\n",
       "      <td>6000.0</td>\n",
       "      <td>NaN</td>\n",
       "    </tr>\n",
       "    <tr>\n",
       "      <th>2</th>\n",
       "      <td>1990-01</td>\n",
       "      <td>ANG MO KIO</td>\n",
       "      <td>1 ROOM</td>\n",
       "      <td>309</td>\n",
       "      <td>ANG MO KIO AVE 1</td>\n",
       "      <td>10 TO 12</td>\n",
       "      <td>31.0</td>\n",
       "      <td>IMPROVED</td>\n",
       "      <td>1977</td>\n",
       "      <td>8000.0</td>\n",
       "      <td>NaN</td>\n",
       "    </tr>\n",
       "    <tr>\n",
       "      <th>3</th>\n",
       "      <td>1990-01</td>\n",
       "      <td>ANG MO KIO</td>\n",
       "      <td>1 ROOM</td>\n",
       "      <td>309</td>\n",
       "      <td>ANG MO KIO AVE 1</td>\n",
       "      <td>07 TO 09</td>\n",
       "      <td>31.0</td>\n",
       "      <td>IMPROVED</td>\n",
       "      <td>1977</td>\n",
       "      <td>6000.0</td>\n",
       "      <td>NaN</td>\n",
       "    </tr>\n",
       "    <tr>\n",
       "      <th>4</th>\n",
       "      <td>1990-01</td>\n",
       "      <td>ANG MO KIO</td>\n",
       "      <td>3 ROOM</td>\n",
       "      <td>216</td>\n",
       "      <td>ANG MO KIO AVE 1</td>\n",
       "      <td>04 TO 06</td>\n",
       "      <td>73.0</td>\n",
       "      <td>NEW GENERATION</td>\n",
       "      <td>1976</td>\n",
       "      <td>47200.0</td>\n",
       "      <td>NaN</td>\n",
       "    </tr>\n",
       "    <tr>\n",
       "      <th>...</th>\n",
       "      <td>...</td>\n",
       "      <td>...</td>\n",
       "      <td>...</td>\n",
       "      <td>...</td>\n",
       "      <td>...</td>\n",
       "      <td>...</td>\n",
       "      <td>...</td>\n",
       "      <td>...</td>\n",
       "      <td>...</td>\n",
       "      <td>...</td>\n",
       "      <td>...</td>\n",
       "    </tr>\n",
       "    <tr>\n",
       "      <th>182350</th>\n",
       "      <td>2024-06</td>\n",
       "      <td>YISHUN</td>\n",
       "      <td>EXECUTIVE</td>\n",
       "      <td>328</td>\n",
       "      <td>YISHUN RING RD</td>\n",
       "      <td>04 TO 06</td>\n",
       "      <td>142.0</td>\n",
       "      <td>Apartment</td>\n",
       "      <td>1988</td>\n",
       "      <td>850000.0</td>\n",
       "      <td>63 years 01 month</td>\n",
       "    </tr>\n",
       "    <tr>\n",
       "      <th>182351</th>\n",
       "      <td>2024-06</td>\n",
       "      <td>YISHUN</td>\n",
       "      <td>EXECUTIVE</td>\n",
       "      <td>723</td>\n",
       "      <td>YISHUN ST 71</td>\n",
       "      <td>10 TO 12</td>\n",
       "      <td>146.0</td>\n",
       "      <td>Maisonette</td>\n",
       "      <td>1986</td>\n",
       "      <td>790000.0</td>\n",
       "      <td>61 years</td>\n",
       "    </tr>\n",
       "    <tr>\n",
       "      <th>182352</th>\n",
       "      <td>2024-06</td>\n",
       "      <td>YISHUN</td>\n",
       "      <td>EXECUTIVE</td>\n",
       "      <td>826</td>\n",
       "      <td>YISHUN ST 81</td>\n",
       "      <td>10 TO 12</td>\n",
       "      <td>146.0</td>\n",
       "      <td>Maisonette</td>\n",
       "      <td>1988</td>\n",
       "      <td>1000000.0</td>\n",
       "      <td>62 years 08 months</td>\n",
       "    </tr>\n",
       "    <tr>\n",
       "      <th>182353</th>\n",
       "      <td>2024-06</td>\n",
       "      <td>YISHUN</td>\n",
       "      <td>EXECUTIVE</td>\n",
       "      <td>826</td>\n",
       "      <td>YISHUN ST 81</td>\n",
       "      <td>04 TO 06</td>\n",
       "      <td>146.0</td>\n",
       "      <td>Maisonette</td>\n",
       "      <td>1988</td>\n",
       "      <td>1000000.0</td>\n",
       "      <td>62 years 08 months</td>\n",
       "    </tr>\n",
       "    <tr>\n",
       "      <th>182354</th>\n",
       "      <td>2024-06</td>\n",
       "      <td>YISHUN</td>\n",
       "      <td>MULTI-GENERATION</td>\n",
       "      <td>633</td>\n",
       "      <td>YISHUN ST 61</td>\n",
       "      <td>07 TO 09</td>\n",
       "      <td>171.0</td>\n",
       "      <td>Multi Generation</td>\n",
       "      <td>1987</td>\n",
       "      <td>1028000.0</td>\n",
       "      <td>62 years 07 months</td>\n",
       "    </tr>\n",
       "  </tbody>\n",
       "</table>\n",
       "<p>928558 rows × 11 columns</p>\n",
       "</div>"
      ],
      "text/plain": [
       "          month        town         flat_type block       street_name  \\\n",
       "0       1990-01  ANG MO KIO            1 ROOM   309  ANG MO KIO AVE 1   \n",
       "1       1990-01  ANG MO KIO            1 ROOM   309  ANG MO KIO AVE 1   \n",
       "2       1990-01  ANG MO KIO            1 ROOM   309  ANG MO KIO AVE 1   \n",
       "3       1990-01  ANG MO KIO            1 ROOM   309  ANG MO KIO AVE 1   \n",
       "4       1990-01  ANG MO KIO            3 ROOM   216  ANG MO KIO AVE 1   \n",
       "...         ...         ...               ...   ...               ...   \n",
       "182350  2024-06      YISHUN         EXECUTIVE   328    YISHUN RING RD   \n",
       "182351  2024-06      YISHUN         EXECUTIVE   723      YISHUN ST 71   \n",
       "182352  2024-06      YISHUN         EXECUTIVE   826      YISHUN ST 81   \n",
       "182353  2024-06      YISHUN         EXECUTIVE   826      YISHUN ST 81   \n",
       "182354  2024-06      YISHUN  MULTI-GENERATION   633      YISHUN ST 61   \n",
       "\n",
       "       storey_range  floor_area_sqm        flat_model  lease_commence_date  \\\n",
       "0          10 TO 12            31.0          IMPROVED                 1977   \n",
       "1          04 TO 06            31.0          IMPROVED                 1977   \n",
       "2          10 TO 12            31.0          IMPROVED                 1977   \n",
       "3          07 TO 09            31.0          IMPROVED                 1977   \n",
       "4          04 TO 06            73.0    NEW GENERATION                 1976   \n",
       "...             ...             ...               ...                  ...   \n",
       "182350     04 TO 06           142.0         Apartment                 1988   \n",
       "182351     10 TO 12           146.0        Maisonette                 1986   \n",
       "182352     10 TO 12           146.0        Maisonette                 1988   \n",
       "182353     04 TO 06           146.0        Maisonette                 1988   \n",
       "182354     07 TO 09           171.0  Multi Generation                 1987   \n",
       "\n",
       "        resale_price     remaining_lease  \n",
       "0             9000.0                 NaN  \n",
       "1             6000.0                 NaN  \n",
       "2             8000.0                 NaN  \n",
       "3             6000.0                 NaN  \n",
       "4            47200.0                 NaN  \n",
       "...              ...                 ...  \n",
       "182350      850000.0   63 years 01 month  \n",
       "182351      790000.0            61 years  \n",
       "182352     1000000.0  62 years 08 months  \n",
       "182353     1000000.0  62 years 08 months  \n",
       "182354     1028000.0  62 years 07 months  \n",
       "\n",
       "[928558 rows x 11 columns]"
      ]
     },
     "execution_count": 9,
     "metadata": {},
     "output_type": "execute_result"
    }
   ],
   "source": [
    "df"
   ]
  },
  {
   "cell_type": "code",
   "execution_count": 10,
   "metadata": {},
   "outputs": [
    {
     "name": "stdout",
     "output_type": "stream",
     "text": [
      "month : 414\n",
      "town : 27\n",
      "flat_type : 8\n",
      "block : 2712\n",
      "street_name : 584\n",
      "storey_range : 25\n",
      "floor_area_sqm : 212\n",
      "flat_model : 34\n",
      "lease_commence_date : 55\n",
      "resale_price : 9537\n",
      "remaining_lease : 726\n"
     ]
    }
   ],
   "source": [
    "# Identify unique val in each col\n",
    "\n",
    "for i in df.columns:\n",
    "    print(i,\":\",df[i].nunique())"
   ]
  },
  {
   "cell_type": "code",
   "execution_count": 11,
   "metadata": {},
   "outputs": [
    {
     "data": {
      "text/plain": [
       "month                       0\n",
       "town                        0\n",
       "flat_type                   0\n",
       "block                       0\n",
       "street_name                 0\n",
       "storey_range                0\n",
       "floor_area_sqm              0\n",
       "flat_model                  0\n",
       "lease_commence_date         0\n",
       "resale_price                0\n",
       "remaining_lease        709050\n",
       "dtype: int64"
      ]
     },
     "execution_count": 11,
     "metadata": {},
     "output_type": "execute_result"
    }
   ],
   "source": [
    "df.isna().sum()"
   ]
  },
  {
   "cell_type": "code",
   "execution_count": 12,
   "metadata": {},
   "outputs": [
    {
     "name": "stdout",
     "output_type": "stream",
     "text": [
      "<class 'pandas.core.frame.DataFrame'>\n",
      "Index: 928558 entries, 0 to 182354\n",
      "Data columns (total 11 columns):\n",
      " #   Column               Non-Null Count   Dtype  \n",
      "---  ------               --------------   -----  \n",
      " 0   month                928558 non-null  object \n",
      " 1   town                 928558 non-null  object \n",
      " 2   flat_type            928558 non-null  object \n",
      " 3   block                928558 non-null  object \n",
      " 4   street_name          928558 non-null  object \n",
      " 5   storey_range         928558 non-null  object \n",
      " 6   floor_area_sqm       928558 non-null  float64\n",
      " 7   flat_model           928558 non-null  object \n",
      " 8   lease_commence_date  928558 non-null  int64  \n",
      " 9   resale_price         928558 non-null  float64\n",
      " 10  remaining_lease      219508 non-null  object \n",
      "dtypes: float64(2), int64(1), object(8)\n",
      "memory usage: 85.0+ MB\n"
     ]
    }
   ],
   "source": [
    "df.info()"
   ]
  },
  {
   "cell_type": "code",
   "execution_count": 14,
   "metadata": {},
   "outputs": [],
   "source": [
    "df[\"month\"]=pd.to_datetime(df[\"month\"],format=\"%m%Y\",errors=\"coerce\").dt.date\n",
    "df[\"block\"]=pd.to_numeric(df[\"block\"],errors=\"coerce\")\n",
    "df[\"lease_commence_date\"]=pd.to_datetime(df[\"lease_commence_date\"],format=\"%Y\",errors=\"coerce\").dt.date\n",
    "\n",
    "\n",
    "\n"
   ]
  },
  {
   "cell_type": "code",
   "execution_count": 19,
   "metadata": {},
   "outputs": [
    {
     "name": "stdout",
     "output_type": "stream",
     "text": [
      "<class 'pandas.core.frame.DataFrame'>\n",
      "Index: 928558 entries, 0 to 182354\n",
      "Data columns (total 11 columns):\n",
      " #   Column               Non-Null Count   Dtype         \n",
      "---  ------               --------------   -----         \n",
      " 0   month                0 non-null       datetime64[ns]\n",
      " 1   town                 928558 non-null  object        \n",
      " 2   flat_type            928558 non-null  object        \n",
      " 3   block                803507 non-null  float64       \n",
      " 4   street_name          928558 non-null  object        \n",
      " 5   storey_range         928558 non-null  object        \n",
      " 6   floor_area_sqm       928558 non-null  float64       \n",
      " 7   flat_model           928558 non-null  object        \n",
      " 8   lease_commence_date  928558 non-null  object        \n",
      " 9   resale_price         928558 non-null  float64       \n",
      " 10  remaining_lease      219508 non-null  object        \n",
      "dtypes: datetime64[ns](1), float64(3), object(7)\n",
      "memory usage: 85.0+ MB\n"
     ]
    }
   ],
   "source": [
    "df.info()"
   ]
  },
  {
   "cell_type": "code",
   "execution_count": null,
   "metadata": {},
   "outputs": [],
   "source": []
  }
 ],
 "metadata": {
  "kernelspec": {
   "display_name": ".venv",
   "language": "python",
   "name": "python3"
  },
  "language_info": {
   "codemirror_mode": {
    "name": "ipython",
    "version": 3
   },
   "file_extension": ".py",
   "mimetype": "text/x-python",
   "name": "python",
   "nbconvert_exporter": "python",
   "pygments_lexer": "ipython3",
   "version": "3.12.1"
  }
 },
 "nbformat": 4,
 "nbformat_minor": 2
}
